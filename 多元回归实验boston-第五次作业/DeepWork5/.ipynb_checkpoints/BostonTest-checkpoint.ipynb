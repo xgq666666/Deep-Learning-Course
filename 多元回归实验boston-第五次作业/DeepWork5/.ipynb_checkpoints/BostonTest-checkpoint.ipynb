{
 "cells": [
  {
   "cell_type": "markdown",
   "metadata": {},
   "source": [
    "# 波士顿房价实验"
   ]
  },
  {
   "cell_type": "code",
   "execution_count": 1,
   "metadata": {},
   "outputs": [],
   "source": [
    "import matplotlib.pyplot as plt\n",
    "import numpy as np\n",
    "import tensorflow as tf\n",
    "\n",
    "import pandas as pd\n",
    "from sklearn.utils import shuffle\n",
    "from sklearn.preprocessing import scale\n",
    "\n",
    "# 在Jupyter中显示图像\n",
    "%matplotlib inline\n",
    "\n"
   ]
  },
  {
   "cell_type": "code",
   "execution_count": 2,
   "metadata": {},
   "outputs": [],
   "source": [
    "#加载波士顿房价数据\n",
    "boston_housing = tf.keras.datasets.boston_housing\n",
    "(x_data, y_data), (_, _) = boston_housing.load_data(test_split=0)"
   ]
  },
  {
   "cell_type": "code",
   "execution_count": null,
   "metadata": {},
   "outputs": [],
   "source": [
    "#加载波士顿房价数据\n",
    "df = pd.read_csv(\"data/boston.csv\", header=0)\n",
    "\n",
    "# print(df.describe())\n",
    "\n",
    "ds = df.values\n",
    "\n",
    "# print(ds.shape)\n",
    "\n",
    "x_data = ds[:, :12]\n",
    "y_data = ds[:, 12]\n",
    "\n",
    "# for i in range(12):\n",
    "#     x_data[:, i] = (x_data[:,i] - x_data[:,i].min()) / (x_data[:,i].max()-x_data[:,i].min())\n",
    "\n",
    "\n",
    "# print(x_data.shape)\n",
    "# print(y_data.shape)\n"
   ]
  },
  {
   "cell_type": "code",
   "execution_count": 3,
   "metadata": {},
   "outputs": [],
   "source": [
    "# 划分数据\n",
    "train_num = 300\n",
    "valid_num = 100\n",
    "test_num = len(x_data) - train_num - valid_num\n",
    "\n",
    "# 训练数据集\n",
    "x_train = x_data[:train_num]\n",
    "y_train = y_data[:train_num]\n",
    "\n",
    "# 验证数据集\n",
    "x_valid = x_data[train_num:train_num+valid_num]\n",
    "y_valid = y_data[train_num:train_num+valid_num]\n",
    "\n",
    "# 测试数据集\n",
    "x_test = x_data[train_num+valid_num:train_num+valid_num+test_num]\n",
    "y_test = y_data[train_num+valid_num:train_num+valid_num+test_num]\n",
    "\n",
    "# print(x_test.shape)\n",
    "# print(y_test.shape)\n",
    "# x_test\n",
    "# y_test"
   ]
  },
  {
   "cell_type": "code",
   "execution_count": null,
   "metadata": {},
   "outputs": [],
   "source": []
  },
  {
   "cell_type": "code",
   "execution_count": 4,
   "metadata": {},
   "outputs": [],
   "source": [
    "# 转换类型并进行数据处理（归一化）\n",
    "x_train = tf.cast(scale(x_train), dtype=tf.float32)\n",
    "x_valid = tf.cast(scale(x_valid), dtype=tf.float32)\n",
    "x_test = tf.cast(scale(x_test), dtype=tf.float32)\n",
    "# x_train"
   ]
  },
  {
   "cell_type": "code",
   "execution_count": 5,
   "metadata": {},
   "outputs": [],
   "source": [
    "# 构造模型\n",
    "def model(x, w, b):\n",
    "    return tf.matmul(x, w) + b"
   ]
  },
  {
   "cell_type": "code",
   "execution_count": 6,
   "metadata": {},
   "outputs": [],
   "source": [
    "# 优化变量\n",
    "W = tf.Variable(tf.random.normal([13, 1], mean=0.0, stddev=1.0, dtype=tf.float32))\n",
    "B = tf.Variable(tf.zeros(1), dtype=tf.float32)"
   ]
  },
  {
   "cell_type": "code",
   "execution_count": 7,
   "metadata": {},
   "outputs": [],
   "source": [
    "# 超参数\n",
    "training_epochs = 100    # 迭代次数\n",
    "learning_rate = 0.01    # 学习率\n",
    "batch_size = 30    # 每批次样本数"
   ]
  },
  {
   "cell_type": "code",
   "execution_count": 8,
   "metadata": {},
   "outputs": [],
   "source": [
    "# 损失函数\n",
    "def loss(x, y, w, b):\n",
    "    err = model(x, w, b) - y\n",
    "    squared_err = tf.square(err)\n",
    "    return tf.reduce_mean(squared_err)"
   ]
  },
  {
   "cell_type": "code",
   "execution_count": 9,
   "metadata": {},
   "outputs": [],
   "source": [
    "# 梯度\n",
    "def grad(x, y, w, b):\n",
    "    with tf.GradientTape() as tape:\n",
    "        loss_ = loss(x, y, w, b)\n",
    "    return tape.gradient(loss_, [w, b])"
   ]
  },
  {
   "cell_type": "code",
   "execution_count": 10,
   "metadata": {},
   "outputs": [],
   "source": [
    "# 优化器\n",
    "optimizer = tf.keras.optimizers.SGD(learning_rate)"
   ]
  },
  {
   "cell_type": "code",
   "execution_count": 11,
   "metadata": {},
   "outputs": [
    {
     "name": "stdout",
     "output_type": "stream",
     "text": [
      "epoch=  1, train_loss=396.5642, valid_loss=511.3394\n",
      "epoch=  2, train_loss=290.2681, valid_loss=389.2284\n",
      "epoch=  3, train_loss=219.7119, valid_loss=305.8733\n",
      "epoch=  4, train_loss=172.6949, valid_loss=248.4342\n",
      "epoch=  5, train_loss=141.3487, valid_loss=208.5883\n",
      "epoch=  6, train_loss=120.4469, valid_loss=180.7518\n",
      "epoch=  7, train_loss=106.5071, valid_loss=161.1533\n",
      "epoch=  8, train_loss=97.2081, valid_loss=147.2367\n",
      "epoch=  9, train_loss=91.0029, valid_loss=137.2633\n",
      "epoch= 10, train_loss=86.8603, valid_loss=130.0459\n",
      "epoch= 11, train_loss=84.0933, valid_loss=124.7694\n",
      "epoch= 12, train_loss=82.2436, valid_loss=120.8720\n",
      "epoch= 13, train_loss=81.0059, valid_loss=117.9632\n",
      "epoch= 14, train_loss=80.1766, valid_loss=115.7703\n",
      "epoch= 15, train_loss=79.6201, valid_loss=114.1009\n",
      "epoch= 16, train_loss=79.2457, valid_loss=112.8185\n",
      "epoch= 17, train_loss=78.9932, valid_loss=111.8250\n",
      "epoch= 18, train_loss=78.8223, valid_loss=111.0494\n",
      "epoch= 19, train_loss=78.7059, valid_loss=110.4398\n",
      "epoch= 20, train_loss=78.6264, valid_loss=109.9577\n",
      "epoch= 21, train_loss=78.5715, valid_loss=109.5745\n",
      "epoch= 22, train_loss=78.5333, valid_loss=109.2684\n",
      "epoch= 23, train_loss=78.5065, valid_loss=109.0231\n",
      "epoch= 24, train_loss=78.4874, valid_loss=108.8259\n",
      "epoch= 25, train_loss=78.4736, valid_loss=108.6669\n",
      "epoch= 26, train_loss=78.4635, valid_loss=108.5384\n",
      "epoch= 27, train_loss=78.4560, valid_loss=108.4343\n",
      "epoch= 28, train_loss=78.4504, valid_loss=108.3501\n",
      "epoch= 29, train_loss=78.4460, valid_loss=108.2817\n",
      "epoch= 30, train_loss=78.4427, valid_loss=108.2261\n",
      "epoch= 31, train_loss=78.4400, valid_loss=108.1811\n",
      "epoch= 32, train_loss=78.4380, valid_loss=108.1445\n",
      "epoch= 33, train_loss=78.4363, valid_loss=108.1148\n",
      "epoch= 34, train_loss=78.4350, valid_loss=108.0908\n",
      "epoch= 35, train_loss=78.4341, valid_loss=108.0714\n",
      "epoch= 36, train_loss=78.4333, valid_loss=108.0557\n",
      "epoch= 37, train_loss=78.4327, valid_loss=108.0430\n",
      "epoch= 38, train_loss=78.4323, valid_loss=108.0328\n",
      "epoch= 39, train_loss=78.4321, valid_loss=108.0247\n",
      "epoch= 40, train_loss=78.4320, valid_loss=108.0182\n",
      "epoch= 41, train_loss=78.4319, valid_loss=108.0132\n",
      "epoch= 42, train_loss=78.4320, valid_loss=108.0092\n",
      "epoch= 43, train_loss=78.4321, valid_loss=108.0062\n",
      "epoch= 44, train_loss=78.4324, valid_loss=108.0039\n",
      "epoch= 45, train_loss=78.4327, valid_loss=108.0023\n",
      "epoch= 46, train_loss=78.4330, valid_loss=108.0011\n",
      "epoch= 47, train_loss=78.4334, valid_loss=108.0003\n",
      "epoch= 48, train_loss=78.4338, valid_loss=107.9998\n",
      "epoch= 49, train_loss=78.4342, valid_loss=107.9996\n",
      "epoch= 50, train_loss=78.4347, valid_loss=107.9997\n",
      "epoch= 51, train_loss=78.4352, valid_loss=107.9999\n",
      "epoch= 52, train_loss=78.4358, valid_loss=108.0003\n",
      "epoch= 53, train_loss=78.4363, valid_loss=108.0008\n",
      "epoch= 54, train_loss=78.4369, valid_loss=108.0014\n",
      "epoch= 55, train_loss=78.4374, valid_loss=108.0020\n",
      "epoch= 56, train_loss=78.4380, valid_loss=108.0027\n",
      "epoch= 57, train_loss=78.4386, valid_loss=108.0035\n",
      "epoch= 58, train_loss=78.4391, valid_loss=108.0042\n",
      "epoch= 59, train_loss=78.4397, valid_loss=108.0051\n",
      "epoch= 60, train_loss=78.4403, valid_loss=108.0059\n",
      "epoch= 61, train_loss=78.4409, valid_loss=108.0067\n",
      "epoch= 62, train_loss=78.4415, valid_loss=108.0075\n",
      "epoch= 63, train_loss=78.4420, valid_loss=108.0084\n",
      "epoch= 64, train_loss=78.4426, valid_loss=108.0092\n",
      "epoch= 65, train_loss=78.4432, valid_loss=108.0100\n",
      "epoch= 66, train_loss=78.4437, valid_loss=108.0108\n",
      "epoch= 67, train_loss=78.4443, valid_loss=108.0116\n",
      "epoch= 68, train_loss=78.4448, valid_loss=108.0124\n",
      "epoch= 69, train_loss=78.4453, valid_loss=108.0132\n",
      "epoch= 70, train_loss=78.4459, valid_loss=108.0140\n",
      "epoch= 71, train_loss=78.4464, valid_loss=108.0147\n",
      "epoch= 72, train_loss=78.4469, valid_loss=108.0155\n",
      "epoch= 73, train_loss=78.4474, valid_loss=108.0162\n",
      "epoch= 74, train_loss=78.4479, valid_loss=108.0169\n",
      "epoch= 75, train_loss=78.4483, valid_loss=108.0176\n",
      "epoch= 76, train_loss=78.4488, valid_loss=108.0183\n",
      "epoch= 77, train_loss=78.4492, valid_loss=108.0190\n",
      "epoch= 78, train_loss=78.4497, valid_loss=108.0196\n",
      "epoch= 79, train_loss=78.4501, valid_loss=108.0202\n",
      "epoch= 80, train_loss=78.4505, valid_loss=108.0209\n",
      "epoch= 81, train_loss=78.4510, valid_loss=108.0215\n",
      "epoch= 82, train_loss=78.4514, valid_loss=108.0220\n",
      "epoch= 83, train_loss=78.4518, valid_loss=108.0226\n",
      "epoch= 84, train_loss=78.4521, valid_loss=108.0231\n",
      "epoch= 85, train_loss=78.4525, valid_loss=108.0237\n",
      "epoch= 86, train_loss=78.4529, valid_loss=108.0242\n",
      "epoch= 87, train_loss=78.4532, valid_loss=108.0247\n",
      "epoch= 88, train_loss=78.4536, valid_loss=108.0253\n",
      "epoch= 89, train_loss=78.4539, valid_loss=108.0258\n",
      "epoch= 90, train_loss=78.4543, valid_loss=108.0262\n",
      "epoch= 91, train_loss=78.4546, valid_loss=108.0267\n",
      "epoch= 92, train_loss=78.4549, valid_loss=108.0272\n",
      "epoch= 93, train_loss=78.4552, valid_loss=108.0276\n",
      "epoch= 94, train_loss=78.4555, valid_loss=108.0280\n",
      "epoch= 95, train_loss=78.4558, valid_loss=108.0285\n",
      "epoch= 96, train_loss=78.4561, valid_loss=108.0288\n",
      "epoch= 97, train_loss=78.4563, valid_loss=108.0292\n",
      "epoch= 98, train_loss=78.4566, valid_loss=108.0296\n",
      "epoch= 99, train_loss=78.4569, valid_loss=108.0300\n",
      "epoch=100, train_loss=78.4571, valid_loss=108.0304\n"
     ]
    }
   ],
   "source": [
    "# loss保存\n",
    "loss_list_train = []\n",
    "loss_list_valid = []\n",
    "total_step = int(train_num/batch_size)\n",
    "\n",
    "for epoch in range(training_epochs):\n",
    "    for step in range(total_step):\n",
    "        xs = x_train[step*batch_size:(step+1)*batch_size, :]\n",
    "        ys = y_train[step*batch_size:(step+1)*batch_size]\n",
    "        \n",
    "        grads = grad(xs, ys, W, B)    # 计算梯度\n",
    "        optimizer.apply_gradients(zip(grads, [W, B]))  # 调整（下降)\n",
    "    loss_train = loss(x_train, y_train, W, B).numpy()\n",
    "    loss_valid = loss(x_valid, y_valid, W, B).numpy()\n",
    "    loss_list_train.append(loss_train)\n",
    "    loss_list_valid.append(loss_valid)\n",
    "    print(\"epoch={:3d}, train_loss={:.4f}, valid_loss={:.4f}\".format(epoch+1, loss_train, loss_valid))"
   ]
  },
  {
   "cell_type": "code",
   "execution_count": 12,
   "metadata": {},
   "outputs": [
    {
     "data": {
      "text/plain": [
       "[<matplotlib.lines.Line2D at 0x20bdf588fd0>]"
      ]
     },
     "execution_count": 12,
     "metadata": {},
     "output_type": "execute_result"
    },
    {
     "data": {
      "image/png": "[encoded data removed]",
      "text/plain": [
       "<Figure size 432x288 with 1 Axes>"
      ]
     },
     "metadata": {
      "needs_background": "light"
     },
     "output_type": "display_data"
    }
   ],
   "source": [
    "# 损失变化\n",
    "plt.xlabel(\"Epochs\")\n",
    "plt.ylabel(\"Loss\")\n",
    "plt.plot(loss_list_train, 'blue', label=\"Train Loss\")\n",
    "plt.plot(loss_list_valid, 'red', label=\"Valid Loss\")"
   ]
  },
  {
   "cell_type": "code",
   "execution_count": 13,
   "metadata": {},
   "outputs": [
    {
     "name": "stdout",
     "output_type": "stream",
     "text": [
      "tf.Tensor(82.5847, shape=(), dtype=float32)\n"
     ]
    }
   ],
   "source": [
    "print(loss(x_test, y_test, W, B))"
   ]
  },
  {
   "cell_type": "code",
   "execution_count": 14,
   "metadata": {},
   "outputs": [
    {
     "name": "stdout",
     "output_type": "stream",
     "text": [
      "House id 2 Actual value 19.4 Predicted value 20.913229\n"
     ]
    }
   ],
   "source": [
    "test_house_id = np.random.randint(0, test_num)\n",
    "y = y_test[test_house_id]\n",
    "y_pred = model(x_test, W, B)[test_house_id]\n",
    "y_predit = tf.reshape(y_pred, ()).numpy()\n",
    "print(\"House id\", test_house_id, \"Actual value\", y, \"Predicted value\", y_predit)"
   ]
  },
  {
   "cell_type": "code",
   "execution_count": null,
   "metadata": {},
   "outputs": [],
   "source": []
  }
 ],
 "metadata": {
  "kernelspec": {
   "display_name": "Python 3",
   "language": "python",
   "name": "python3"
  },
  "language_info": {
   "codemirror_mode": {
    "name": "ipython",
    "version": 3
   },
   "file_extension": ".py",
   "mimetype": "text/x-python",
   "name": "python",
   "nbconvert_exporter": "python",
   "pygments_lexer": "ipython3",
   "version": "3.7.0"
  }
 },
 "nbformat": 4,
 "nbformat_minor": 4
}
